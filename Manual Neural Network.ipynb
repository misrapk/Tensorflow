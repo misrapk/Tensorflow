{
 "cells": [
  {
   "cell_type": "markdown",
   "metadata": {},
   "source": [
    "# Manual Neural Network\n",
    "\n",
    "### Operation Class\n",
    "1. Input Nodes\n",
    "2. Output Nodes\n",
    "3. Global Default graph variable\n",
    "4. Compute\n",
    "    - overwritten by extended classes"
   ]
  },
  {
   "cell_type": "markdown",
   "metadata": {},
   "source": [
    "# Operation"
   ]
  },
  {
   "cell_type": "code",
   "execution_count": 22,
   "metadata": {},
   "outputs": [],
   "source": [
    "class Operation():\n",
    "    def __init__(self, input_node=[]):\n",
    "        \n",
    "        self.input_node = input_node\n",
    "        self.output_node = []\n",
    "        \n",
    "        for node in input_node:\n",
    "            node.output_node.append(self)\n",
    "            \n",
    "        _default_graph.operations.append(self)\n",
    "            \n",
    "    def compute(self):\n",
    "        pass"
   ]
  },
  {
   "cell_type": "code",
   "execution_count": 23,
   "metadata": {},
   "outputs": [],
   "source": [
    "class add(Operation):\n",
    "    \n",
    "    def __init__(self, x,y):\n",
    "        super().__init__([x,y])\n",
    "        \n",
    "    def compute(self, x_var, y_var):\n",
    "        self.inputs = [x_var, y_var]\n",
    "        return x_var+y_var\n",
    "        "
   ]
  },
  {
   "cell_type": "code",
   "execution_count": 24,
   "metadata": {},
   "outputs": [],
   "source": [
    "class multiply(Operation):\n",
    "    \n",
    "    def __init__(self, x,y):\n",
    "        super().__init__([x,y])\n",
    "        \n",
    "    def compute(self, x_var, y_var):\n",
    "        self.inputs = [x_var, y_var]\n",
    "        return x_var*y_var\n",
    "        "
   ]
  },
  {
   "cell_type": "code",
   "execution_count": 25,
   "metadata": {},
   "outputs": [],
   "source": [
    "class matmul(Operation):     #matrix multiplication\n",
    "    \n",
    "    def __init__(self, x,y):\n",
    "        super().__init__([x,y])\n",
    "        \n",
    "    def compute(self, x_var, y_var):\n",
    "        self.inputs = [x_var, y_var]\n",
    "        return x_var.dot(y_var)\n",
    "        "
   ]
  },
  {
   "cell_type": "markdown",
   "metadata": {},
   "source": [
    "### Placeholder\n",
    "An \"empty\" node that needs a value to be provided to compute output\n",
    "\n",
    "### variables \n",
    "Changeable parameter of Graph\n",
    "\n",
    "### Graph\n",
    "Global variables connecting variables and placeholder to an operations"
   ]
  },
  {
   "cell_type": "code",
   "execution_count": 40,
   "metadata": {},
   "outputs": [],
   "source": [
    "class Placeholder():\n",
    "    \n",
    "    def __init__(self):\n",
    "        \n",
    "        self.output_node = []\n",
    "        \n",
    "        _default_graph.placeholders.append(self)"
   ]
  },
  {
   "cell_type": "code",
   "execution_count": 28,
   "metadata": {},
   "outputs": [],
   "source": [
    "class Variable():\n",
    "    \n",
    "    def __init__(self, initial_value = None):\n",
    "        self.value = initial_value\n",
    "        self.output_node = []\n",
    "        \n",
    "        _default_graph.variables.append(self)"
   ]
  },
  {
   "cell_type": "code",
   "execution_count": 29,
   "metadata": {},
   "outputs": [],
   "source": [
    "class graph():\n",
    "    \n",
    "    def __init__(self):\n",
    "        \n",
    "        self.operations = []\n",
    "        self.placeholders =[]\n",
    "        self.variables = []\n",
    "        \n",
    "        \n",
    "    def set_as_default(self):\n",
    "        global _default_graph\n",
    "        _default_graph = self"
   ]
  },
  {
   "cell_type": "markdown",
   "metadata": {},
   "source": [
    "z = Ax + b\n",
    "\n",
    "A = 10\n",
    "\n",
    "b = 1\n",
    "\n",
    "z = 10x + 1           \n",
    "\n",
    "Here  x is placeholder, A and b are variables"
   ]
  },
  {
   "cell_type": "code",
   "execution_count": 31,
   "metadata": {},
   "outputs": [],
   "source": [
    "g = graph()"
   ]
  },
  {
   "cell_type": "code",
   "execution_count": 32,
   "metadata": {},
   "outputs": [],
   "source": [
    "g.set_as_default()"
   ]
  },
  {
   "cell_type": "code",
   "execution_count": 33,
   "metadata": {},
   "outputs": [],
   "source": [
    "A = Variable(10)\n"
   ]
  },
  {
   "cell_type": "code",
   "execution_count": 34,
   "metadata": {},
   "outputs": [],
   "source": [
    "b = Variable(1)"
   ]
  },
  {
   "cell_type": "code",
   "execution_count": 42,
   "metadata": {},
   "outputs": [],
   "source": [
    "x = Placeholder()"
   ]
  },
  {
   "cell_type": "code",
   "execution_count": 43,
   "metadata": {},
   "outputs": [],
   "source": [
    "y = multiply(A,x)"
   ]
  },
  {
   "cell_type": "code",
   "execution_count": 44,
   "metadata": {},
   "outputs": [],
   "source": [
    "z = add(y, b)"
   ]
  },
  {
   "cell_type": "code",
   "execution_count": 55,
   "metadata": {},
   "outputs": [],
   "source": [
    "def traverse_postorder(operation):\n",
    "    \"\"\"Postorder traversal of nodes. Basically makes sure computations are done in the correct order(Ax first, then Ax+b).\n",
    "    \"\"\"\n",
    "    nodes_postorder = []\n",
    "    def recurse(node):\n",
    "        if isinstance(node, Operation):\n",
    "            for input_node in node.input_node:\n",
    "                recurse(input_node)\n",
    "        nodes_postorder.append(node)\n",
    "        \n",
    "    recurse(operation)\n",
    "    return nodes_postorder\n",
    "                \n",
    "    "
   ]
  },
  {
   "cell_type": "code",
   "execution_count": 72,
   "metadata": {},
   "outputs": [],
   "source": [
    "import numpy as np\n",
    "class Session():\n",
    "    def run(self, operation, feed_dict = {}):\n",
    "        #operation itself is going to be the operation to compute and then the feed dictionary is a dictionary mapping\n",
    "        #placeholders to input values\n",
    "        nodes_postorder = traverse_postorder(operation)\n",
    "        for node in nodes_postorder:\n",
    "            if type(node) == Placeholder:\n",
    "                node.output = feed_dict[node]\n",
    "                \n",
    "            elif type(node) == Variable:\n",
    "                node.output = node.value\n",
    "                \n",
    "            else:\n",
    "                #OPERATION\n",
    "                node.inputs = [input_node.output for input_node in node.input_node]\n",
    "                node.output = node.compute(*node.inputs)  \n",
    "                \n",
    "            if type (node.output )==list:\n",
    "                node.output = np.array(node.output)\n",
    "                \n",
    "        return operation.output"
   ]
  },
  {
   "cell_type": "code",
   "execution_count": 61,
   "metadata": {},
   "outputs": [],
   "source": [
    "sess = Session()"
   ]
  },
  {
   "cell_type": "code",
   "execution_count": 62,
   "metadata": {},
   "outputs": [],
   "source": [
    "result = sess.run(operation=z, feed_dict={x:10})"
   ]
  },
  {
   "cell_type": "code",
   "execution_count": 64,
   "metadata": {},
   "outputs": [
    {
     "data": {
      "text/plain": [
       "101"
      ]
     },
     "execution_count": 64,
     "metadata": {},
     "output_type": "execute_result"
    }
   ],
   "source": [
    "result"
   ]
  },
  {
   "cell_type": "code",
   "execution_count": 73,
   "metadata": {},
   "outputs": [],
   "source": [
    "g = graph()\n",
    "\n",
    "g.set_as_default()\n",
    "\n",
    "A = Variable([[10,20], [20,30]])\n",
    "b = Variable([1,2])\n",
    "x = Placeholder()\n",
    "y = matmul(A,x)\n",
    "\n",
    "z = add(y,b)"
   ]
  },
  {
   "cell_type": "code",
   "execution_count": 74,
   "metadata": {},
   "outputs": [],
   "source": [
    "sess = Session()"
   ]
  },
  {
   "cell_type": "code",
   "execution_count": 76,
   "metadata": {},
   "outputs": [
    {
     "data": {
      "text/plain": [
       "array([[101, 202],\n",
       "       [201, 302]])"
      ]
     },
     "execution_count": 76,
     "metadata": {},
     "output_type": "execute_result"
    }
   ],
   "source": [
    "sess.run(operation=z, feed_dict={x:10})"
   ]
  },
  {
   "cell_type": "markdown",
   "metadata": {},
   "source": [
    "# Classification \n",
    "\n",
    "## Activation Function"
   ]
  },
  {
   "cell_type": "code",
   "execution_count": 77,
   "metadata": {},
   "outputs": [],
   "source": [
    "import matplotlib.pyplot as plt\n",
    "%matplotlib inline"
   ]
  },
  {
   "cell_type": "code",
   "execution_count": 79,
   "metadata": {},
   "outputs": [],
   "source": [
    "def sigmoid(z):\n",
    "    return 1 / (1+np.exp(-z))"
   ]
  },
  {
   "cell_type": "code",
   "execution_count": 80,
   "metadata": {},
   "outputs": [],
   "source": [
    "sample_z = np.linspace(-10, 10,100)\n",
    "sample_a = sigmoid(sample_z)"
   ]
  },
  {
   "cell_type": "code",
   "execution_count": 81,
   "metadata": {},
   "outputs": [
    {
     "data": {
      "text/plain": [
       "[<matplotlib.lines.Line2D at 0x24890979e80>]"
      ]
     },
     "execution_count": 81,
     "metadata": {},
     "output_type": "execute_result"
    },
    {
     "data": {
      "image/png": "[encoded data removed]",
      "text/plain": [
       "<Figure size 432x288 with 1 Axes>"
      ]
     },
     "metadata": {
      "needs_background": "light"
     },
     "output_type": "display_data"
    }
   ],
   "source": [
    "plt.plot(sample_z, sample_a)"
   ]
  },
  {
   "cell_type": "code",
   "execution_count": 114,
   "metadata": {},
   "outputs": [],
   "source": [
    "class Sigmoid(Operation):\n",
    "    def __init__(self, z):\n",
    "        super().__init__([z])\n",
    "        \n",
    "    def compute(sel, z_val):\n",
    "        return 1/(1+np.exp(-z_val))"
   ]
  },
  {
   "cell_type": "code",
   "execution_count": 83,
   "metadata": {},
   "outputs": [],
   "source": [
    "from sklearn.datasets import make_blobs"
   ]
  },
  {
   "cell_type": "code",
   "execution_count": 84,
   "metadata": {},
   "outputs": [],
   "source": [
    "data = make_blobs(n_samples=50, n_features=2, centers=2, random_state=75)"
   ]
  },
  {
   "cell_type": "code",
   "execution_count": 85,
   "metadata": {},
   "outputs": [
    {
     "data": {
      "text/plain": [
       "(array([[  7.3402781 ,   9.36149154],\n",
       "        [  9.13332743,   8.74906102],\n",
       "        [  1.99243535,  -8.85885722],\n",
       "        [  7.38443759,   7.72520389],\n",
       "        [  7.97613887,   8.80878209],\n",
       "        [  7.76974352,   9.50899462],\n",
       "        [  8.3186688 ,  10.1026025 ],\n",
       "        [  8.79588546,   7.28046702],\n",
       "        [  9.81270381,   9.46968531],\n",
       "        [  1.57961049,  -8.17089971],\n",
       "        [  0.06441546,  -9.04982817],\n",
       "        [  7.2075117 ,   7.04533624],\n",
       "        [  9.10704928,   9.0272212 ],\n",
       "        [  1.82921897,  -9.86956281],\n",
       "        [  7.85036314,   7.986659  ],\n",
       "        [  3.04605603,  -7.50486114],\n",
       "        [  1.85582689,  -6.74473432],\n",
       "        [  2.88603902,  -8.85261704],\n",
       "        [ -1.20046211,  -9.55928542],\n",
       "        [  2.00890845,  -9.78471782],\n",
       "        [  7.68945113,   9.01706723],\n",
       "        [  6.42356167,   8.33356412],\n",
       "        [  8.15467319,   7.87489634],\n",
       "        [  1.92000795,  -7.50953708],\n",
       "        [  1.90073973,  -7.24386675],\n",
       "        [  7.7605855 ,   7.05124418],\n",
       "        [  6.90561582,   9.23493842],\n",
       "        [  0.65582768,  -9.5920878 ],\n",
       "        [  1.41804346,  -8.10517372],\n",
       "        [  9.65371965,   9.35409538],\n",
       "        [  1.23053506,  -7.98873571],\n",
       "        [  1.96322881,  -9.50169117],\n",
       "        [  6.11644251,   9.26709393],\n",
       "        [  7.70630321,  10.78862346],\n",
       "        [  0.79580385,  -9.00301023],\n",
       "        [  3.13114921,  -8.6849493 ],\n",
       "        [  1.3970852 ,  -7.25918415],\n",
       "        [  7.27808709,   7.15201886],\n",
       "        [  1.06965742,  -8.1648251 ],\n",
       "        [  6.37298915,   9.77705761],\n",
       "        [  7.24898455,   8.85834104],\n",
       "        [  2.09335725,  -7.66278316],\n",
       "        [  1.05865542,  -8.43841416],\n",
       "        [  6.43807502,   7.85483418],\n",
       "        [  6.94948313,   8.75248232],\n",
       "        [ -0.07326715, -11.69999644],\n",
       "        [  0.61463602,  -9.51908883],\n",
       "        [  1.31977821,  -7.2710667 ],\n",
       "        [  2.72532584,  -7.51956557],\n",
       "        [  8.20949206,  11.90419283]]),\n",
       " array([1, 1, 0, 1, 1, 1, 1, 1, 1, 0, 0, 1, 1, 0, 1, 0, 0, 0, 0, 0, 1, 1,\n",
       "        1, 0, 0, 1, 1, 0, 0, 1, 0, 0, 1, 1, 0, 0, 0, 1, 0, 1, 1, 0, 0, 1,\n",
       "        1, 0, 0, 0, 0, 1]))"
      ]
     },
     "execution_count": 85,
     "metadata": {},
     "output_type": "execute_result"
    }
   ],
   "source": [
    "data"
   ]
  },
  {
   "cell_type": "code",
   "execution_count": 86,
   "metadata": {},
   "outputs": [
    {
     "data": {
      "text/plain": [
       "tuple"
      ]
     },
     "execution_count": 86,
     "metadata": {},
     "output_type": "execute_result"
    }
   ],
   "source": [
    "type(data)"
   ]
  },
  {
   "cell_type": "code",
   "execution_count": 87,
   "metadata": {},
   "outputs": [],
   "source": [
    "features = data[0]\n",
    "labels = data[1]"
   ]
  },
  {
   "cell_type": "code",
   "execution_count": 90,
   "metadata": {},
   "outputs": [
    {
     "data": {
      "text/plain": [
       "<matplotlib.collections.PathCollection at 0x24891eb8e80>"
      ]
     },
     "execution_count": 90,
     "metadata": {},
     "output_type": "execute_result"
    },
    {
     "data": {
      "image/png": "[encoded data removed]",
      "text/plain": [
       "<Figure size 432x288 with 1 Axes>"
      ]
     },
     "metadata": {
      "needs_background": "light"
     },
     "output_type": "display_data"
    }
   ],
   "source": [
    "plt.scatter(features[:,0], features[:,1], c= labels, cmap ='coolwarm')"
   ]
  },
  {
   "cell_type": "code",
   "execution_count": 99,
   "metadata": {},
   "outputs": [
    {
     "data": {
      "text/plain": [
       "[<matplotlib.lines.Line2D at 0x2489338b9b0>]"
      ]
     },
     "execution_count": 99,
     "metadata": {},
     "output_type": "execute_result"
    },
    {
     "data": {
      "image/png": "[encoded data removed]",
      "text/plain": [
       "<Figure size 432x288 with 1 Axes>"
      ]
     },
     "metadata": {
      "needs_background": "light"
     },
     "output_type": "display_data"
    }
   ],
   "source": [
    "x = np.linspace(-1,11,10)\n",
    "y = -x +6    #y = mx +c\n",
    "plt.scatter(features[:,0], features[:,1], c= labels, cmap ='coolwarm')\n",
    "plt.plot(x,y, 'green')\n"
   ]
  },
  {
   "cell_type": "markdown",
   "metadata": {},
   "source": [
    "# (1,1) * f - 5 = 0"
   ]
  },
  {
   "cell_type": "code",
   "execution_count": 101,
   "metadata": {},
   "outputs": [
    {
     "data": {
      "text/plain": [
       "array([13])"
      ]
     },
     "execution_count": 101,
     "metadata": {},
     "output_type": "execute_result"
    }
   ],
   "source": [
    "np.array([1,1]).dot(np.array([[8],[10]])) - 5"
   ]
  },
  {
   "cell_type": "code",
   "execution_count": 103,
   "metadata": {},
   "outputs": [
    {
     "data": {
      "text/plain": [
       "array([-11])"
      ]
     },
     "execution_count": 103,
     "metadata": {},
     "output_type": "execute_result"
    }
   ],
   "source": [
    "np.array([1,1]).dot(np.array([[2],[-8]])) - 5"
   ]
  },
  {
   "cell_type": "code",
   "execution_count": 116,
   "metadata": {},
   "outputs": [],
   "source": [
    "g = graph()\n"
   ]
  },
  {
   "cell_type": "code",
   "execution_count": 117,
   "metadata": {},
   "outputs": [],
   "source": [
    "g.set_as_default()\n"
   ]
  },
  {
   "cell_type": "code",
   "execution_count": 118,
   "metadata": {},
   "outputs": [],
   "source": [
    "x = Placeholder()"
   ]
  },
  {
   "cell_type": "code",
   "execution_count": 119,
   "metadata": {},
   "outputs": [],
   "source": [
    "w = Variable([1,1])"
   ]
  },
  {
   "cell_type": "code",
   "execution_count": 120,
   "metadata": {},
   "outputs": [],
   "source": [
    "b = Variable(-5)"
   ]
  },
  {
   "cell_type": "code",
   "execution_count": 121,
   "metadata": {},
   "outputs": [],
   "source": [
    "z = add(matmul(w,x), b)"
   ]
  },
  {
   "cell_type": "code",
   "execution_count": 122,
   "metadata": {},
   "outputs": [],
   "source": [
    "a = Sigmoid(z)"
   ]
  },
  {
   "cell_type": "code",
   "execution_count": 123,
   "metadata": {},
   "outputs": [],
   "source": [
    "sess =Session()"
   ]
  },
  {
   "cell_type": "code",
   "execution_count": 124,
   "metadata": {},
   "outputs": [
    {
     "data": {
      "text/plain": [
       "0.999997739675702"
      ]
     },
     "execution_count": 124,
     "metadata": {},
     "output_type": "execute_result"
    }
   ],
   "source": [
    "sess.run(operation=a, feed_dict={x:[8,10]})"
   ]
  },
  {
   "cell_type": "code",
   "execution_count": 125,
   "metadata": {},
   "outputs": [
    {
     "data": {
      "text/plain": [
       "2.2603242979035746e-06"
      ]
     },
     "execution_count": 125,
     "metadata": {},
     "output_type": "execute_result"
    }
   ],
   "source": [
    "sess.run(operation=a, feed_dict={x:[2,-10]})"
   ]
  }
 ],
 "metadata": {
  "kernelspec": {
   "display_name": "Python 3",
   "language": "python",
   "name": "python3"
  },
  "language_info": {
   "codemirror_mode": {
    "name": "ipython",
    "version": 3
   },
   "file_extension": ".py",
   "mimetype": "text/x-python",
   "name": "python",
   "nbconvert_exporter": "python",
   "pygments_lexer": "ipython3",
   "version": "3.7.3"
  }
 },
 "nbformat": 4,
 "nbformat_minor": 2
}
